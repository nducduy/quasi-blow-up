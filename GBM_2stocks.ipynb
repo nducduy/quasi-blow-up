{
 "cells": [
  {
   "cell_type": "code",
   "execution_count": 17,
   "id": "59569149-b2cc-41fb-bdc4-7ae605715379",
   "metadata": {},
   "outputs": [
    {
     "name": "stdout",
     "output_type": "stream",
     "text": [
      "Requirement already satisfied: py_vollib in ./opt/anaconda3/lib/python3.9/site-packages (1.0.1)\n",
      "Requirement already satisfied: numpy in ./opt/anaconda3/lib/python3.9/site-packages (from py_vollib) (1.22.4)\n",
      "Requirement already satisfied: scipy in ./opt/anaconda3/lib/python3.9/site-packages (from py_vollib) (1.7.3)\n",
      "Requirement already satisfied: py-lets-be-rational in ./opt/anaconda3/lib/python3.9/site-packages (from py_vollib) (1.0.1)\n",
      "Requirement already satisfied: pandas in ./opt/anaconda3/lib/python3.9/site-packages (from py_vollib) (1.4.3)\n",
      "Requirement already satisfied: simplejson in ./opt/anaconda3/lib/python3.9/site-packages (from py_vollib) (3.19.2)\n",
      "Requirement already satisfied: python-dateutil>=2.8.1 in ./opt/anaconda3/lib/python3.9/site-packages (from pandas->py_vollib) (2.8.2)\n",
      "Requirement already satisfied: pytz>=2020.1 in ./opt/anaconda3/lib/python3.9/site-packages (from pandas->py_vollib) (2021.3)\n",
      "Requirement already satisfied: six>=1.5 in ./opt/anaconda3/lib/python3.9/site-packages (from python-dateutil>=2.8.1->pandas->py_vollib) (1.16.0)\n"
     ]
    }
   ],
   "source": [
    "import numpy as np\n",
    "import math\n",
    "from matplotlib import pyplot as plt\n",
    "from utils import bsinv\n",
    "vec_bsinv = np.vectorize(bsinv)\n",
    "%matplotlib inline\n",
    "!pip install py_vollib \n",
    "import py_vollib\n",
    "from py_vollib.black_scholes  import black_scholes as bs\n",
    "from py_vollib.black_scholes.implied_volatility import implied_volatility as iv"
   ]
  },
  {
   "cell_type": "code",
   "execution_count": 18,
   "id": "fd998481-b865-45de-ae66-42bb1840c907",
   "metadata": {},
   "outputs": [],
   "source": [
    "# stocks are all martingales.\n",
    "mu1 = 0;\n",
    "sigma1 = 0.2;\n",
    "mu2 = 0;\n",
    "sigma2= 0.6;\n",
    "r = 0; \n",
    "\n",
    "# time increment\n",
    "dt = 0.05*1/365;\n",
    " \n",
    "maturity = np.arange(1,3000,10);#% 1:10:2000;\n",
    "maturity_len = len(maturity);\n",
    "maturity_max = maturity[-1]; #Get the last element\n",
    "\n",
    "\n",
    "#derivative of implied vol at ATM\n",
    "derivative = np.zeros(maturity_len)-10;\n",
    "\n",
    "#simulate many paths \n",
    "num_paths = 50000;\n",
    "\n",
    "# small number\n",
    "eps = 0.001;\n",
    "\n",
    "stock1_paths = np.zeros((num_paths,maturity_max));\n",
    "stock2_paths = np.zeros((num_paths, maturity_max));\n",
    "\n",
    "index = np.zeros((num_paths, maturity_max));\n",
    "\n",
    "\n",
    "# initial values\n",
    "S0stock1=100;\n",
    "S0stock2=97;\n",
    "stock1_paths[:,0] = S0stock1;\n",
    "stock2_paths[:,0] = S0stock2;\n",
    "\n",
    "\n",
    "# weights for index\n",
    "w1 = 0.6; \n",
    "w2 = 0.4; \n",
    "index[:,0] = w1*stock1_paths[0,0]+ w2*stock2_paths[0,0];\n",
    "\n",
    "\n",
    "MaturityT=dt*maturity_max; # time to maturity\n",
    "ndt=math.floor(1/dt); #round 1/dt to an integer\n",
    "\n",
    "#simulate GBMs\n",
    "noise1 =  np.sqrt(dt)*np.random.normal(0,1,size=(num_paths,maturity_max));\n",
    "noise2 =  np.sqrt(dt)*np.random.normal(0,1,size=(num_paths,maturity_max));\n",
    "\n",
    "W1 = np.cumsum(noise1, axis = 1);\n",
    "W2 = np.cumsum(noise2, axis = 1);\n",
    "\n",
    "\n",
    "#simulate stock pths\n",
    "TT0 = np.multiply(dt,list(range(1,maturity_max+1,1)));\n",
    "X1 = W1 - 0.5* sigma1**2*TT0;\n",
    "X2 = W2 - 0.5* sigma2**2*TT0;\n",
    "\n",
    "#GBMs\n",
    "#for p in range(0,num_paths):\n",
    "    #stock1_paths[p,1:(maturity_max)]= S0stock1 * np.exp(sigma1*W1[p,1:(maturity_max)] - 0.5* sigma1**2*TT0);\n",
    "    #stock2_paths[p,1:(maturity_max)]= S0stock1 * np.exp(sigma2*W2[p,1:(maturity_max)] - 0.5* sigma2**2*TT0);\n",
    "stock1_paths[:,1:(maturity_max)]= S0stock1 * np.exp(sigma1*X1[:,0:(maturity_max-1)]);\n",
    "stock2_paths[:,1:(maturity_max)]= S0stock2 * np.exp(sigma2*X2[:,0:(maturity_max-1)]);\n",
    "\n",
    "\n",
    "    "
   ]
  },
  {
   "cell_type": "code",
   "execution_count": 14,
   "id": "48fb1a99-0c93-455b-8f01-d582be0fea13",
   "metadata": {},
   "outputs": [
    {
     "data": {
      "text/plain": [
       "101.10720421669227"
      ]
     },
     "execution_count": 14,
     "metadata": {},
     "output_type": "execute_result"
    }
   ],
   "source": [
    "np.mean(stock2_paths[:,maturity_max-1])"
   ]
  },
  {
   "cell_type": "code",
   "execution_count": 19,
   "id": "009a9816-fee2-4b1e-8dc4-966c21b32fcb",
   "metadata": {},
   "outputs": [
    {
     "name": "stderr",
     "output_type": "stream",
     "text": [
      "The PostScript backend does not support transparency; partially transparent artists will be rendered opaque.\n",
      "The PostScript backend does not support transparency; partially transparent artists will be rendered opaque.\n"
     ]
    },
    {
     "data": {
      "image/png": "[encoded data removed]",
      "text/plain": [
       "<Figure size 432x288 with 1 Axes>"
      ]
     },
     "metadata": {
      "needs_background": "light"
     },
     "output_type": "display_data"
    }
   ],
   "source": [
    "#initiate stocks array\n",
    "stocks=np.zeros((num_paths,2));\n",
    "\n",
    "for j in range(1,maturity_max-1):  #range must be 1---> to end here\n",
    " #Compute index\n",
    " #stocks=np.array([stock1_paths[p,j],stock2_paths[p,j]])\n",
    " stocks[:,0]=stock1_paths[:,j];\n",
    " stocks[:,1]=stock2_paths[:,j];\n",
    " #descending sort\n",
    " stocks=-stocks;\n",
    " stocks.sort();\n",
    " stocks=-stocks;\n",
    " #call on index\n",
    " index[:,j]=w1*stocks[:,0]+w2*stocks[:,1];\n",
    " #index[:,j] = stock1_paths[:,j]\n",
    "\n",
    "#derivative of implied vol at ATM\n",
    "derivative = np.zeros((1,maturity_len));\n",
    "\n",
    "ATM_implied_vol = np.zeros((1,maturity_len));\n",
    "\n",
    "# compute index_hat = E[index_{maturity}|F_0],\n",
    "# which is the price of index future at 0\n",
    "index_hat = np.zeros((1,maturity_len));\n",
    "\n",
    "for m in range(0,maturity_len-1):\n",
    "  index_hat[0,m]=np.mean(index[:,maturity[m]])\n",
    "\n",
    "for m in range(0,maturity_len-1):\n",
    "  #compute option price\n",
    "  #%ATM strike is the price of index future with matrutity maturity(1,m)\n",
    "  I = index_hat[0,m];\n",
    "  #I = stock1_paths[0,0];\n",
    "  #% consider two strikes only\n",
    "  strike =np.zeros((1,2))\n",
    "  strike[0,0]=I-eps;\n",
    "  strike[0,1]=I;# [I-eps I];\n",
    "  log_moneyness =np.log(strike/I);\n",
    "  strike_len = np.max(strike.shape);\n",
    "  implied_vol =np.zeros((1,strike_len));\n",
    "  call_price_list = np.zeros((1,strike_len));\n",
    "\n",
    "  #% time to maturity\n",
    "  TT = maturity[m]*dt;\n",
    "\n",
    "  for s in range(0,strike_len):\n",
    "    #% index option price using Monte Carlo\n",
    "    payoff_index = index[:,maturity[m]] - strike[0,s];\n",
    "    payoff_index = payoff_index[payoff_index > 0];\n",
    "    index_call_price = np.sum(payoff_index)/num_paths;\n",
    "    #%Volatility = blsimpv(Price,Strike,Rate,Time,Value)\n",
    "    #% compute implied vol, price is now index_hat\n",
    "    implied_vol[0,s] = iv(index_call_price,I,strike[0,s],maturity[m]*dt,0,'c'); #imp_v = iv(price, S, K, t, r, flag='c','p')\n",
    "    #call_price_list[0,s] = index_call_price ;\n",
    "    #% implied vol at ATM\n",
    "    if strike[0,s] == I:\n",
    "      ATM_implied_vol[0,m] = iv(index_call_price,I,strike[0,s],TT,0,'c');\n",
    "  # discret time derivative of implied vol\n",
    "  #derivative[0,m] = (implied_vol[0,0] - implied_vol[0,1])/(log_moneyness[0,1] - log_moneyness[0,0]);\n",
    "  derivative[0,m] = (implied_vol[0,0] - implied_vol[0,1])/(log_moneyness[0,0] - log_moneyness[0,1]);\n",
    "\n",
    "\n",
    "#Fit the Power Regression Model\n",
    "# this gives quasi blow up\n",
    "p = np.polyfit(np.log(maturity[3:(maturity_len-1)]*dt),np.log(np.abs(derivative[0,3:(maturity_len-1)])),1);\n",
    "m_fit = round(p[0],4);\n",
    "b_fit = np.exp(p[1]);\n",
    "plt.plot(maturity[1:(maturity_len-1)]*dt,np.abs(derivative[0,1:(maturity_len-1)]),'o-',label='simulated skew');\n",
    "plt.plot(maturity[1:(maturity_len-1)]*dt,b_fit*(maturity[1:(maturity_len-1)]*dt)**(m_fit),label=r\"fitted curve $T^\\alpha,\\alpha=$\"+ str(m_fit));\n",
    "plt.legend()\n",
    "plt.xlabel(r\"$T$\")\n",
    "plt.ylabel(\"|Skew|\")\n",
    "plt.savefig('GBM_2stocks_quasi.eps', format='eps')\n",
    "plt.show()\n",
    "\n",
    "\n"
   ]
  },
  {
   "cell_type": "code",
   "execution_count": null,
   "id": "ee81b8d9-d61c-4c6a-aed5-7bbd1dd37df8",
   "metadata": {},
   "outputs": [],
   "source": []
  }
 ],
 "metadata": {
  "kernelspec": {
   "display_name": "Python 3 (ipykernel)",
   "language": "python",
   "name": "python3"
  },
  "language_info": {
   "codemirror_mode": {
    "name": "ipython",
    "version": 3
   },
   "file_extension": ".py",
   "mimetype": "text/x-python",
   "name": "python",
   "nbconvert_exporter": "python",
   "pygments_lexer": "ipython3",
   "version": "3.9.12"
  }
 },
 "nbformat": 4,
 "nbformat_minor": 5
}
